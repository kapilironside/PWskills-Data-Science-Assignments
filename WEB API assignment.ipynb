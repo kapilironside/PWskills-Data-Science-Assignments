{
 "cells": [
  {
   "cell_type": "code",
   "execution_count": null,
   "id": "15196625",
   "metadata": {},
   "outputs": [],
   "source": [
    "##A1\n",
    "\n",
    "API is application programming interface. API is used between Gpay and bank application."
   ]
  },
  {
   "cell_type": "code",
   "execution_count": null,
   "id": "401fe1d1",
   "metadata": {},
   "outputs": [],
   "source": []
  },
  {
   "cell_type": "code",
   "execution_count": null,
   "id": "6a082969",
   "metadata": {},
   "outputs": [],
   "source": [
    "##A2\n",
    "\n",
    "Advantages - flexibility, faster development, scalability,better integration\n",
    "disadvantages - security risks, complexity, dependency, versioning"
   ]
  },
  {
   "cell_type": "code",
   "execution_count": null,
   "id": "bae20b52",
   "metadata": {},
   "outputs": [],
   "source": []
  },
  {
   "cell_type": "code",
   "execution_count": null,
   "id": "8959b520",
   "metadata": {},
   "outputs": [],
   "source": [
    "##A3\n",
    "\n",
    "Web API - http protocol based transaction is web api."
   ]
  },
  {
   "cell_type": "code",
   "execution_count": null,
   "id": "106875ff",
   "metadata": {},
   "outputs": [],
   "source": []
  },
  {
   "cell_type": "code",
   "execution_count": null,
   "id": "c0a2610a",
   "metadata": {},
   "outputs": [],
   "source": [
    "##A4\n",
    "\n",
    "REST- Http protocol. Function like put,get,post,delete are used\n",
    "SOAP - tcp and smtp protocols are used\n",
    "\n",
    "soap use xml format and rules are in format of wsdl file. Not flexible and simple as REST architecture."
   ]
  },
  {
   "cell_type": "code",
   "execution_count": null,
   "id": "ac239bd3",
   "metadata": {},
   "outputs": [],
   "source": []
  },
  {
   "cell_type": "code",
   "execution_count": null,
   "id": "022aba72",
   "metadata": {},
   "outputs": [],
   "source": [
    "##A5\n",
    "\n",
    "Soap is not flexible and simple as REST architecture.\n",
    "REST- Http protocol. Function like put,get,post,delete are used\n",
    "SOAP - tcp and smtp protocols are used"
   ]
  }
 ],
 "metadata": {
  "kernelspec": {
   "display_name": "Python 3 (ipykernel)",
   "language": "python",
   "name": "python3"
  },
  "language_info": {
   "codemirror_mode": {
    "name": "ipython",
    "version": 3
   },
   "file_extension": ".py",
   "mimetype": "text/x-python",
   "name": "python",
   "nbconvert_exporter": "python",
   "pygments_lexer": "ipython3",
   "version": "3.9.13"
  }
 },
 "nbformat": 4,
 "nbformat_minor": 5
}
