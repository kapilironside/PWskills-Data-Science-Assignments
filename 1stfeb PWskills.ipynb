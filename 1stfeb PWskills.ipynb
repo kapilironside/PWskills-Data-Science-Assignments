{
 "cells": [
  {
   "cell_type": "code",
   "execution_count": 24,
   "id": "ff061c0d",
   "metadata": {},
   "outputs": [
    {
     "name": "stdout",
     "output_type": "stream",
     "text": [
      "TAOG ODLANOR\n"
     ]
    }
   ],
   "source": [
    "##Reverse STring\n",
    "\n",
    "a=\"RONALDO GOAT\"\n",
    "\n",
    "print(a[::-1])"
   ]
  },
  {
   "cell_type": "code",
   "execution_count": 26,
   "id": "68dc39c2",
   "metadata": {},
   "outputs": [
    {
     "data": {
      "text/plain": [
       "<reversed at 0x22fc5face80>"
      ]
     },
     "execution_count": 26,
     "metadata": {},
     "output_type": "execute_result"
    }
   ],
   "source": [
    "reversed(a) ##shows the location"
   ]
  },
  {
   "cell_type": "code",
   "execution_count": 25,
   "id": "9df11e9f",
   "metadata": {},
   "outputs": [
    {
     "data": {
      "text/plain": [
       "'T A O G   O D L A N O R'"
      ]
     },
     "execution_count": 25,
     "metadata": {},
     "output_type": "execute_result"
    }
   ],
   "source": [
    "\" \".join(reversed(a))"
   ]
  },
  {
   "cell_type": "code",
   "execution_count": 15,
   "id": "7d314994",
   "metadata": {},
   "outputs": [
    {
     "data": {
      "text/plain": [
       "['RONALDO GOAT']"
      ]
     },
     "execution_count": 15,
     "metadata": {},
     "output_type": "execute_result"
    }
   ],
   "source": [
    "list(reversed(a))"
   ]
  },
  {
   "cell_type": "code",
   "execution_count": 21,
   "id": "19c9792e",
   "metadata": {},
   "outputs": [
    {
     "data": {
      "text/plain": [
       "'RONALDO GOAT'"
      ]
     },
     "execution_count": 21,
     "metadata": {},
     "output_type": "execute_result"
    }
   ],
   "source": [
    "##removing char from the end of string\n",
    "\n",
    "a=\" RONALDO GOAT \"\n",
    "a.strip(\" \")"
   ]
  },
  {
   "cell_type": "code",
   "execution_count": 22,
   "id": "4ff13a08",
   "metadata": {},
   "outputs": [
    {
     "data": {
      "text/plain": [
       "'RONALDO GOAT '"
      ]
     },
     "execution_count": 22,
     "metadata": {},
     "output_type": "execute_result"
    }
   ],
   "source": [
    "a.lstrip(\" \") #removing left whitespace strip"
   ]
  },
  {
   "cell_type": "code",
   "execution_count": 23,
   "id": "cbf06004",
   "metadata": {},
   "outputs": [
    {
     "data": {
      "text/plain": [
       "' RONALDO GOAT'"
      ]
     },
     "execution_count": 23,
     "metadata": {},
     "output_type": "execute_result"
    }
   ],
   "source": [
    "a.rstrip(\" \") #removing right whitespace strip"
   ]
  },
  {
   "cell_type": "code",
   "execution_count": 2,
   "id": "c554f76e",
   "metadata": {},
   "outputs": [
    {
     "data": {
      "text/plain": [
       "' RONALDO ONLY GOAT '"
      ]
     },
     "execution_count": 2,
     "metadata": {},
     "output_type": "execute_result"
    }
   ],
   "source": [
    "##replace\n",
    "\n",
    "a=\" RONALDO GOAT \"\n",
    "a.replace(\"GOAT\",\"ONLY GOAT\")"
   ]
  },
  {
   "cell_type": "code",
   "execution_count": 3,
   "id": "95697415",
   "metadata": {},
   "outputs": [
    {
     "data": {
      "text/plain": [
       "' RONALDO BOAT '"
      ]
     },
     "execution_count": 3,
     "metadata": {},
     "output_type": "execute_result"
    }
   ],
   "source": [
    "a.replace(\"G\",\"B\")  #String is inmutable but here an entirely new string is created after replacing the letter"
   ]
  },
  {
   "cell_type": "code",
   "execution_count": 14,
   "id": "67f06e8c",
   "metadata": {},
   "outputs": [
    {
     "name": "stdout",
     "output_type": "stream",
     "text": [
      "Welcome to Data Science\n"
     ]
    }
   ],
   "source": [
    "str1=\"Welcome to Dat cience\"   #Qts - fill the word\n",
    "a=str1.replace(\"Dat\",\"Data\")\n",
    "b=a.replace(\"cience\",\"Science\")\n",
    "print(b)      #1st method"
   ]
  },
  {
   "cell_type": "code",
   "execution_count": 18,
   "id": "69b9ccc5",
   "metadata": {},
   "outputs": [
    {
     "name": "stdout",
     "output_type": "stream",
     "text": [
      "Welcome to Dat cience\n"
     ]
    }
   ],
   "source": [
    "str2=\"Welcome to Dat cience\"   #2nd method\n",
    "str2.replace(\"Dat\",\"Data\").replace(\"cience\",\"Science\")\n",
    "print(str2)"
   ]
  },
  {
   "cell_type": "code",
   "execution_count": 16,
   "id": "37aac02e",
   "metadata": {},
   "outputs": [
    {
     "data": {
      "text/plain": [
       "'WELCOME TO DAT CIENCE'"
      ]
     },
     "execution_count": 16,
     "metadata": {},
     "output_type": "execute_result"
    }
   ],
   "source": [
    "str2.upper()"
   ]
  },
  {
   "cell_type": "code",
   "execution_count": 19,
   "id": "165f19e0",
   "metadata": {},
   "outputs": [
    {
     "data": {
      "text/plain": [
       "False"
      ]
     },
     "execution_count": 19,
     "metadata": {},
     "output_type": "execute_result"
    }
   ],
   "source": [
    "str2.islower()"
   ]
  },
  {
   "cell_type": "code",
   "execution_count": 21,
   "id": "363f1b23",
   "metadata": {},
   "outputs": [
    {
     "data": {
      "text/plain": [
       "False"
      ]
     },
     "execution_count": 21,
     "metadata": {},
     "output_type": "execute_result"
    }
   ],
   "source": [
    "str2.isspace()"
   ]
  },
  {
   "cell_type": "code",
   "execution_count": 25,
   "id": "a258fb7d",
   "metadata": {},
   "outputs": [
    {
     "data": {
      "text/plain": [
       "True"
      ]
     },
     "execution_count": 25,
     "metadata": {},
     "output_type": "execute_result"
    }
   ],
   "source": [
    "str2.endswith(\"e\")"
   ]
  },
  {
   "cell_type": "code",
   "execution_count": 29,
   "id": "65cc9777",
   "metadata": {},
   "outputs": [
    {
     "data": {
      "text/plain": [
       "22"
      ]
     },
     "execution_count": 29,
     "metadata": {},
     "output_type": "execute_result"
    }
   ],
   "source": [
    "str2.count(\"\")"
   ]
  },
  {
   "cell_type": "code",
   "execution_count": 30,
   "id": "8c7518ca",
   "metadata": {},
   "outputs": [
    {
     "name": "stdout",
     "output_type": "stream",
     "text": [
      "21\n"
     ]
    }
   ],
   "source": [
    "#or 2nd method using for\n",
    "\n",
    "count=0\n",
    "for i in str2:\n",
    "    count=count+1\n",
    "print(count)"
   ]
  },
  {
   "cell_type": "code",
   "execution_count": 31,
   "id": "634d8798",
   "metadata": {},
   "outputs": [
    {
     "data": {
      "text/plain": [
       "21"
      ]
     },
     "execution_count": 31,
     "metadata": {},
     "output_type": "execute_result"
    }
   ],
   "source": [
    "len(str2)"
   ]
  },
  {
   "cell_type": "code",
   "execution_count": 32,
   "id": "20dac35e",
   "metadata": {},
   "outputs": [
    {
     "data": {
      "text/plain": [
       "range(0, 21)"
      ]
     },
     "execution_count": 32,
     "metadata": {},
     "output_type": "execute_result"
    }
   ],
   "source": [
    "range(len(str2))"
   ]
  },
  {
   "cell_type": "code",
   "execution_count": 40,
   "id": "08520d4f",
   "metadata": {},
   "outputs": [
    {
     "name": "stdout",
     "output_type": "stream",
     "text": [
      "i = W\n",
      "i = e\n",
      "i = l\n",
      "i = c\n",
      "i = o\n",
      "i = m\n",
      "i = e\n",
      "i =  \n",
      "i = t\n",
      "i = o\n",
      "i =  \n",
      "i = D\n",
      "i = a\n",
      "i = t\n",
      "i =  \n",
      "i = c\n",
      "i = i\n",
      "i = e\n",
      "i = n\n",
      "i = c\n",
      "i = e\n"
     ]
    }
   ],
   "source": [
    "for i in range(len(str2)):  #showing index wise string\n",
    "    print(\"i\",\"=\",str2[i])\n",
    "    "
   ]
  },
  {
   "cell_type": "code",
   "execution_count": 42,
   "id": "b1671b21",
   "metadata": {},
   "outputs": [
    {
     "data": {
      "text/plain": [
       "'ecneic taD ot emocleW'"
      ]
     },
     "execution_count": 42,
     "metadata": {},
     "output_type": "execute_result"
    }
   ],
   "source": [
    "str2[::-1]"
   ]
  },
  {
   "cell_type": "code",
   "execution_count": 46,
   "id": "126bb3af",
   "metadata": {},
   "outputs": [
    {
     "name": "stdout",
     "output_type": "stream",
     "text": [
      "i = e\n",
      "i = c\n",
      "i = n\n",
      "i = e\n",
      "i = i\n",
      "i = c\n",
      "i =  \n",
      "i = t\n",
      "i = a\n",
      "i = D\n",
      "i =  \n",
      "i = o\n",
      "i = t\n",
      "i =  \n",
      "i = e\n",
      "i = m\n",
      "i = o\n",
      "i = c\n",
      "i = l\n",
      "i = e\n",
      "i = W\n"
     ]
    }
   ],
   "source": [
    "for i in range(len(str2)-1,-1,-1):  #showing index wise string\n",
    "    print(\"i\",\"=\",str2[i])\n",
    "    \n",
    "    ##The arguments to range() are start, stop, and step. In this case, start is a, stop is -1, and step is -1.\n",
    "    ## For example, if a is 5, range(a, -1, -1) will return the sequence 5, 4, 3, 2, 1, 0, -1.\n",
    "    "
   ]
  },
  {
   "cell_type": "code",
   "execution_count": 3,
   "id": "5756d86a",
   "metadata": {},
   "outputs": [
    {
     "name": "stdout",
     "output_type": "stream",
     "text": [
      "ecneicS ataD ot emocleW"
     ]
    }
   ],
   "source": [
    "str2=\"Welcome to Data Science\"\n",
    "ch=len(str2)-1\n",
    "while ch>=0:\n",
    "    print(str2[ch],end=\"\")\n",
    "    ch=ch-1\n"
   ]
  },
  {
   "cell_type": "code",
   "execution_count": 4,
   "id": "d8068988",
   "metadata": {},
   "outputs": [
    {
     "name": "stdout",
     "output_type": "stream",
     "text": [
      "a\n",
      "i\n"
     ]
    }
   ],
   "source": [
    "name=\"kapil\"\n",
    "vowel=\"aeiou\"\n",
    "for ch in name:\n",
    "    if ch in vowel:\n",
    "        print(ch)"
   ]
  },
  {
   "cell_type": "code",
   "execution_count": 11,
   "id": "40e1efb3",
   "metadata": {},
   "outputs": [
    {
     "name": "stdout",
     "output_type": "stream",
     "text": [
      "kepil\n"
     ]
    }
   ],
   "source": [
    "name=\"kapil\"\n",
    "a=list(name)\n",
    "a[1]=\"e\"\n",
    "name=\"\".join(a)\n",
    "print(name)"
   ]
  },
  {
   "cell_type": "code",
   "execution_count": null,
   "id": "9a2efacb",
   "metadata": {},
   "outputs": [],
   "source": [
    "##example of indexing a string \n",
    "s = \"hello\"\n",
    "lst = list(s) # convert string to list\n",
    "lst[1] = \"a\" # replace character at index 1\n",
    "s = \"\".join(lst) # convert list back to string. the join() method is used to concatenate a list of strings into a single string\n",
    "print(s)"
   ]
  },
  {
   "cell_type": "code",
   "execution_count": 16,
   "id": "ed2d96cd",
   "metadata": {},
   "outputs": [
    {
     "name": "stdout",
     "output_type": "stream",
     "text": [
      "['kapil']\n"
     ]
    }
   ],
   "source": [
    "name=\"kapil\"\n",
    "a=list(name.split(\" \"))\n",
    "print(a)\n"
   ]
  },
  {
   "cell_type": "code",
   "execution_count": 17,
   "id": "63835889",
   "metadata": {},
   "outputs": [
    {
     "data": {
      "text/plain": [
       "[1, 2, 3, 4, 5, 6]"
      ]
     },
     "execution_count": 17,
     "metadata": {},
     "output_type": "execute_result"
    }
   ],
   "source": [
    "##LIST\n",
    "#concatenate\n",
    "name=[1,2,3,4]\n",
    "name + [5,6]"
   ]
  },
  {
   "cell_type": "code",
   "execution_count": 21,
   "id": "4da6fe45",
   "metadata": {},
   "outputs": [
    {
     "name": "stdout",
     "output_type": "stream",
     "text": [
      "[1, 2, 3, 4, [5, 6]]\n"
     ]
    }
   ],
   "source": [
    "##multiconcatenated list \n",
    "name=[1,2,3,4]\n",
    "name1 = name + [[5,6]]\n",
    "print(name1)"
   ]
  },
  {
   "cell_type": "code",
   "execution_count": 23,
   "id": "2dc333cb",
   "metadata": {},
   "outputs": [
    {
     "data": {
      "text/plain": [
       "5"
      ]
     },
     "execution_count": 23,
     "metadata": {},
     "output_type": "execute_result"
    }
   ],
   "source": [
    "#how to get 5 from nested bracket ?\n",
    "name1[-1][0]"
   ]
  },
  {
   "cell_type": "code",
   "execution_count": 1,
   "id": "6d1c13a2",
   "metadata": {},
   "outputs": [
    {
     "name": "stdout",
     "output_type": "stream",
     "text": [
      "5 is not in list\n"
     ]
    }
   ],
   "source": [
    "##check if 3 is in the list using loop\n",
    "name=[1,2,3,4]\n",
    "for ch in name: ##ch or element both can be written\n",
    "    if ch == 5:\n",
    "        print( \"5 is in list\")\n",
    "        break\n",
    "else:\n",
    "    print(\"5 is not in list\")\n",
    "        \n",
    "##we use the in keyword to check if the value 3 is in the list name. If it is, we print a message indicating that 3 is \n",
    "##in the list and use the break statement to exit the loop. If it's not, we continue iterating through the loop until the \n",
    "##end, and then print a message indicating that 3 is not \n",
    "##in the list."
   ]
  },
  {
   "cell_type": "code",
   "execution_count": 2,
   "id": "4f4830e7",
   "metadata": {},
   "outputs": [
    {
     "name": "stdout",
     "output_type": "stream",
     "text": [
      "zebra\n"
     ]
    }
   ],
   "source": [
    "##ASCII CODE\n",
    "lst1=[\"zebra\",\"cook\",\"dog\",\"lion\"]\n",
    "print(max(lst1)) ##ASCII value of fist char of word-- google it"
   ]
  },
  {
   "cell_type": "code",
   "execution_count": 3,
   "id": "d1b863d5",
   "metadata": {
    "scrolled": true
   },
   "outputs": [
    {
     "name": "stdout",
     "output_type": "stream",
     "text": [
      "5\n"
     ]
    }
   ],
   "source": [
    "lst2=[1,2,3,4,5]\n",
    "print(max(lst2))\n"
   ]
  },
  {
   "cell_type": "code",
   "execution_count": 7,
   "id": "326883de",
   "metadata": {},
   "outputs": [
    {
     "name": "stdout",
     "output_type": "stream",
     "text": [
      "['zebra', 'cook', 'dog', 'lion', [1, 2, 3, 4, 5]]\n"
     ]
    }
   ],
   "source": [
    "##append  (in place operaion)\n",
    "#an \"in-place\" operation is an operation that modifies an object directly, without creating a new object. \n",
    "#For example, if you have a list my_list, and you want to sort it in-place, you can use the sort() method\n",
    "\n",
    "lst1=[\"zebra\",\"cook\",\"dog\",\"lion\"]\n",
    "lst2=[1,2,3,4,5]\n",
    "lst1.append(lst2)\n",
    "print(lst1)"
   ]
  },
  {
   "cell_type": "code",
   "execution_count": 15,
   "id": "e2dc2353",
   "metadata": {},
   "outputs": [
    {
     "data": {
      "text/plain": [
       "['zebra', 'cook', 'lion', 'pw', 'skills']"
      ]
     },
     "execution_count": 15,
     "metadata": {},
     "output_type": "execute_result"
    }
   ],
   "source": [
    "lst1.extend([\"pw\",\"skills\"])  ##extending 2 words without nesting it\n",
    "lst1"
   ]
  },
  {
   "cell_type": "code",
   "execution_count": 8,
   "id": "d2c8c46d",
   "metadata": {},
   "outputs": [
    {
     "data": {
      "text/plain": [
       "[1, 2, 3, 4, 5]"
      ]
     },
     "execution_count": 8,
     "metadata": {},
     "output_type": "execute_result"
    }
   ],
   "source": [
    "##pop\n",
    "##pop() is a list method that removes and returns the last element from a list. It's an in-place operation, \n",
    "#which means that it modifies the list directly, rather than creating a new list object.\n",
    "\n",
    "removed_element0=lst1.pop()"
   ]
  },
  {
   "cell_type": "code",
   "execution_count": 9,
   "id": "89f40fd3",
   "metadata": {},
   "outputs": [
    {
     "data": {
      "text/plain": [
       "'dog'"
      ]
     },
     "execution_count": 9,
     "metadata": {},
     "output_type": "execute_result"
    }
   ],
   "source": [
    "##if you want to remove a specific index using pop\n",
    "\n",
    "removed_element1 = lst1.pop(2) ##-dog is removed from the list"
   ]
  },
  {
   "cell_type": "code",
   "execution_count": 10,
   "id": "ab90af8f",
   "metadata": {},
   "outputs": [
    {
     "name": "stdout",
     "output_type": "stream",
     "text": [
      "['zebra', 'cook', 'lion']\n"
     ]
    }
   ],
   "source": [
    "print(lst1)"
   ]
  },
  {
   "cell_type": "code",
   "execution_count": 12,
   "id": "54df9b45",
   "metadata": {},
   "outputs": [
    {
     "name": "stdout",
     "output_type": "stream",
     "text": [
      "[5, 4, 3, 2, 1]\n"
     ]
    }
   ],
   "source": [
    "#sorting and reverse -in place operation\n",
    "\n",
    "lst2=[1,2,3,4,5]\n",
    "lst2.reverse()\n",
    "print(lst2)"
   ]
  },
  {
   "cell_type": "code",
   "execution_count": 17,
   "id": "249682a0",
   "metadata": {},
   "outputs": [
    {
     "data": {
      "text/plain": [
       "[5, 4, 3, 2, 1]"
      ]
     },
     "execution_count": 17,
     "metadata": {},
     "output_type": "execute_result"
    }
   ],
   "source": [
    "lst2=[1,2,3,4,5]\n",
    "lst2.sort(reverse=True)  ##reverse can be done by indexing and also by sort function\n",
    "lst2"
   ]
  },
  {
   "cell_type": "code",
   "execution_count": 2,
   "id": "c8ced036",
   "metadata": {},
   "outputs": [
    {
     "name": "stdout",
     "output_type": "stream",
     "text": [
      "[[1, 2, 3], [4, 5, 6], [7, 8, 9]]\n"
     ]
    }
   ],
   "source": [
    "##NESTED LIST\n",
    "\n",
    "lst1=[1,2,3]\n",
    "lst2=[4,5,6]\n",
    "lst3=[7,8,9]\n",
    "\n",
    "matrix=[lst1,lst2,lst3]\n",
    "print(matrix)"
   ]
  },
  {
   "cell_type": "code",
   "execution_count": 3,
   "id": "3fe4b930",
   "metadata": {},
   "outputs": [
    {
     "data": {
      "text/plain": [
       "[1, 2, 3]"
      ]
     },
     "execution_count": 3,
     "metadata": {},
     "output_type": "execute_result"
    }
   ],
   "source": [
    "matrix[0]"
   ]
  },
  {
   "cell_type": "code",
   "execution_count": 4,
   "id": "fb643ccf",
   "metadata": {},
   "outputs": [
    {
     "data": {
      "text/plain": [
       "6"
      ]
     },
     "execution_count": 4,
     "metadata": {},
     "output_type": "execute_result"
    }
   ],
   "source": [
    "matrix[1][2]"
   ]
  },
  {
   "cell_type": "code",
   "execution_count": 5,
   "id": "0936d1aa",
   "metadata": {},
   "outputs": [
    {
     "data": {
      "text/plain": [
       "[8, 9]"
      ]
     },
     "execution_count": 5,
     "metadata": {},
     "output_type": "execute_result"
    }
   ],
   "source": [
    "matrix[2][1:]"
   ]
  },
  {
   "cell_type": "code",
   "execution_count": 24,
   "id": "5a55a770",
   "metadata": {},
   "outputs": [
    {
     "name": "stdout",
     "output_type": "stream",
     "text": [
      "0\n",
      "2\n",
      "4\n",
      "6\n",
      "8\n",
      "10\n",
      "12\n",
      "14\n",
      "16\n",
      "18\n"
     ]
    },
    {
     "data": {
      "text/plain": [
       "[None,\n",
       " None,\n",
       " None,\n",
       " None,\n",
       " None,\n",
       " None,\n",
       " None,\n",
       " None,\n",
       " None,\n",
       " None,\n",
       " None,\n",
       " None,\n",
       " None,\n",
       " None,\n",
       " None,\n",
       " None,\n",
       " None,\n",
       " None,\n",
       " None,\n",
       " None]"
      ]
     },
     "execution_count": 24,
     "metadata": {},
     "output_type": "execute_result"
    }
   ],
   "source": [
    "##LIST COMPREHENSION\n",
    "#EVEN\n",
    "\n",
    "[ print(i,end=\"\") if i%2==0 else print(\"\")\n",
    " for i in range(0,20)]"
   ]
  },
  {
   "cell_type": "code",
   "execution_count": 26,
   "id": "2915b199",
   "metadata": {},
   "outputs": [
    {
     "name": "stdout",
     "output_type": "stream",
     "text": [
      "20\n",
      "16\n"
     ]
    }
   ],
   "source": [
    "##assign: make sum of odd and even num\n",
    "\n",
    "lst=[1,2,3,4,5,6,7,8]\n",
    "even=0\n",
    "odd=0\n",
    "for i in lst:\n",
    "    if i%2==0:\n",
    "        even=even+i\n",
    "    else:\n",
    "        odd=odd+i\n",
    "print(even)\n",
    "print(odd)"
   ]
  },
  {
   "cell_type": "code",
   "execution_count": 37,
   "id": "4df0ac77",
   "metadata": {},
   "outputs": [
    {
     "name": "stdout",
     "output_type": "stream",
     "text": [
      "20\n"
     ]
    }
   ],
   "source": [
    "##2ndmethod\n",
    "\n",
    "lst=[1,2,3,4,5,6,7,8]\n",
    "even = sum([num for num in lst if num % 2==0])\n",
    "print(even)"
   ]
  },
  {
   "cell_type": "code",
   "execution_count": 38,
   "id": "024993fd",
   "metadata": {},
   "outputs": [
    {
     "ename": "TypeError",
     "evalue": "'int' object is not iterable",
     "output_type": "error",
     "traceback": [
      "\u001b[1;31m---------------------------------------------------------------------------\u001b[0m",
      "\u001b[1;31mTypeError\u001b[0m                                 Traceback (most recent call last)",
      "\u001b[1;32m~\\AppData\\Local\\Temp\\ipykernel_3148\\3185396225.py\u001b[0m in \u001b[0;36m<module>\u001b[1;34m\u001b[0m\n\u001b[0;32m      1\u001b[0m \u001b[0mlst\u001b[0m\u001b[1;33m=\u001b[0m\u001b[1;33m[\u001b[0m\u001b[1;33m[\u001b[0m\u001b[1;36m1\u001b[0m\u001b[1;33m,\u001b[0m\u001b[1;36m2\u001b[0m\u001b[1;33m,\u001b[0m\u001b[1;36m3\u001b[0m\u001b[1;33m]\u001b[0m\u001b[1;33m,\u001b[0m\u001b[1;33m[\u001b[0m\u001b[1;36m4\u001b[0m\u001b[1;33m,\u001b[0m\u001b[1;36m5\u001b[0m\u001b[1;33m,\u001b[0m\u001b[1;36m6\u001b[0m\u001b[1;33m]\u001b[0m\u001b[1;33m,\u001b[0m\u001b[1;33m[\u001b[0m\u001b[1;36m7\u001b[0m\u001b[1;33m,\u001b[0m\u001b[1;36m8\u001b[0m\u001b[1;33m,\u001b[0m\u001b[1;36m9\u001b[0m\u001b[1;33m]\u001b[0m\u001b[1;33m]\u001b[0m\u001b[1;33m\u001b[0m\u001b[1;33m\u001b[0m\u001b[0m\n\u001b[1;32m----> 2\u001b[1;33m \u001b[0ma\u001b[0m\u001b[1;33m=\u001b[0m \u001b[0msum\u001b[0m\u001b[1;33m(\u001b[0m\u001b[0mlst\u001b[0m\u001b[1;33m[\u001b[0m\u001b[1;36m0\u001b[0m\u001b[1;33m]\u001b[0m\u001b[1;33m[\u001b[0m\u001b[1;36m0\u001b[0m\u001b[1;33m]\u001b[0m\u001b[1;33m,\u001b[0m\u001b[0mlst\u001b[0m\u001b[1;33m[\u001b[0m\u001b[1;36m1\u001b[0m\u001b[1;33m]\u001b[0m\u001b[1;33m[\u001b[0m\u001b[1;36m0\u001b[0m\u001b[1;33m]\u001b[0m\u001b[1;33m)\u001b[0m\u001b[1;33m\u001b[0m\u001b[1;33m\u001b[0m\u001b[0m\n\u001b[0m",
      "\u001b[1;31mTypeError\u001b[0m: 'int' object is not iterable"
     ]
    }
   ],
   "source": [
    "lst=[[1,2,3],[4,5,6],[7,8,9]]\n",
    "new_lst = [num for sublist in lst for num in sublist]\n",
    "print(new_lst)\n"
   ]
  },
  {
   "cell_type": "code",
   "execution_count": null,
   "id": "a9baa987",
   "metadata": {},
   "outputs": [],
   "source": []
  }
 ],
 "metadata": {
  "kernelspec": {
   "display_name": "Python 3 (ipykernel)",
   "language": "python",
   "name": "python3"
  },
  "language_info": {
   "codemirror_mode": {
    "name": "ipython",
    "version": 3
   },
   "file_extension": ".py",
   "mimetype": "text/x-python",
   "name": "python",
   "nbconvert_exporter": "python",
   "pygments_lexer": "ipython3",
   "version": "3.9.13"
  }
 },
 "nbformat": 4,
 "nbformat_minor": 5
}
