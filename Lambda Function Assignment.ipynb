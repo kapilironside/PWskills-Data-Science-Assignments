{
 "cells": [
  {
   "cell_type": "code",
   "execution_count": 7,
   "id": "196df5f5",
   "metadata": {},
   "outputs": [
    {
     "name": "stdout",
     "output_type": "stream",
     "text": [
      "[('Virat Kohli', 24936), ('Jack Kallis', 25534), ('Ricky Ponting', 27483), ('Sachin Tendulkar', 34357)]\n"
     ]
    }
   ],
   "source": [
    "#A1\n",
    "a=[('Sachin Tendulkar', 34357), ('Ricky Ponting', 27483),\n",
    "   ('Jack Kallis', 25534), ('Virat Kohli', 24936)]\n",
    "a.sort(key=lambda x:x[1],reverse=False)\n",
    "print(a)"
   ]
  },
  {
   "cell_type": "code",
   "execution_count": null,
   "id": "42e063b3",
   "metadata": {},
   "outputs": [],
   "source": []
  },
  {
   "cell_type": "code",
   "execution_count": 13,
   "id": "4d29ee4e",
   "metadata": {},
   "outputs": [
    {
     "name": "stdout",
     "output_type": "stream",
     "text": [
      "[1, 4, 9, 16, 25, 36, 49, 64, 81, 100]\n",
      "[1, 4, 9, 16, 25, 36, 49, 64, 81, 100]\n"
     ]
    }
   ],
   "source": [
    "#A2\n",
    "b=[1, 2, 3, 4, 5, 6, 7, 8, 9, 10]\n",
    "\n",
    "def sq(x):\n",
    "    return x*x\n",
    "square=list(map(sq,b))\n",
    "print(square)\n",
    "\n",
    "##Lambda and map\n",
    "b=[1, 2, 3, 4, 5, 6, 7, 8, 9, 10]\n",
    "square1=list(map(lambda x:x*x,b))\n",
    "print(square1)\n"
   ]
  },
  {
   "cell_type": "code",
   "execution_count": null,
   "id": "bcec8061",
   "metadata": {},
   "outputs": [],
   "source": []
  },
  {
   "cell_type": "code",
   "execution_count": 20,
   "id": "7cb9430f",
   "metadata": {},
   "outputs": [
    {
     "name": "stdout",
     "output_type": "stream",
     "text": [
      "['1', '2', '3', '4', '5', '6', '7', '8', '9', '10']\n",
      "('1', '2', '3', '4', '5', '6', '7', '8', '9', '10')\n"
     ]
    }
   ],
   "source": [
    "#A3\n",
    "b=[1, 2, 3, 4, 5, 6, 7, 8, 9, 10]\n",
    "bstring=list(map(str,b))\n",
    "print(bstring)\n",
    "def convert(list):\n",
    "    return tuple(list)\n",
    "print(convert(bstring))"
   ]
  },
  {
   "cell_type": "code",
   "execution_count": null,
   "id": "5725aeac",
   "metadata": {},
   "outputs": [],
   "source": []
  },
  {
   "cell_type": "code",
   "execution_count": 24,
   "id": "c0077127",
   "metadata": {},
   "outputs": [
    {
     "name": "stdout",
     "output_type": "stream",
     "text": [
      "325\n"
     ]
    }
   ],
   "source": [
    "#A4\n",
    "from functools import reduce\n",
    "d=[1,2,3,4,5,6,7,8,9,10,11,12,13,14,15,16,17,18,19,20,21,22,23,24,25]\n",
    "dsum=reduce(lambda x,y:x+y,d)\n",
    "print(dsum)"
   ]
  },
  {
   "cell_type": "code",
   "execution_count": null,
   "id": "466f2951",
   "metadata": {},
   "outputs": [],
   "source": []
  },
  {
   "cell_type": "code",
   "execution_count": 21,
   "id": "d33dd4f5",
   "metadata": {},
   "outputs": [
    {
     "name": "stdout",
     "output_type": "stream",
     "text": [
      "[2, 6, 60, 90, 120, 46]\n"
     ]
    }
   ],
   "source": [
    "#A5\n",
    "e=[2, 3, 6, 9, 27, 60, 90, 120, 55, 46]\n",
    "ediv=list(filter(lambda x:x%2==0 or x%2==0, e))\n",
    "print(ediv)"
   ]
  },
  {
   "cell_type": "code",
   "execution_count": null,
   "id": "69f8d34a",
   "metadata": {},
   "outputs": [],
   "source": []
  },
  {
   "cell_type": "code",
   "execution_count": 25,
   "id": "337eef83",
   "metadata": {},
   "outputs": [
    {
     "name": "stdout",
     "output_type": "stream",
     "text": [
      "['php', 'aba', 'radar', 'level']\n"
     ]
    }
   ],
   "source": [
    "#A6\n",
    "strings = ['python', 'php', 'aba', 'radar', 'level']\n",
    "palindromes = list(filter(lambda x: x == x[::-1], strings))\n",
    "print(palindromes)"
   ]
  },
  {
   "cell_type": "code",
   "execution_count": null,
   "id": "782fe25b",
   "metadata": {},
   "outputs": [],
   "source": []
  }
 ],
 "metadata": {
  "kernelspec": {
   "display_name": "Python 3 (ipykernel)",
   "language": "python",
   "name": "python3"
  },
  "language_info": {
   "codemirror_mode": {
    "name": "ipython",
    "version": 3
   },
   "file_extension": ".py",
   "mimetype": "text/x-python",
   "name": "python",
   "nbconvert_exporter": "python",
   "pygments_lexer": "ipython3",
   "version": "3.9.13"
  }
 },
 "nbformat": 4,
 "nbformat_minor": 5
}
