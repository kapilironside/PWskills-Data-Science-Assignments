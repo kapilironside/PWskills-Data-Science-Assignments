{
 "cells": [
  {
   "cell_type": "code",
   "execution_count": null,
   "id": "320939f7",
   "metadata": {},
   "outputs": [],
   "source": [
    "A1 : Three measures of central tendency are = mean, median,mode"
   ]
  },
  {
   "cell_type": "code",
   "execution_count": null,
   "id": "139f5f6e",
   "metadata": {},
   "outputs": [],
   "source": [
    "A2 : Mean is the avg of a dataset. Median is the avg of middle two elements of a dataset for even \n",
    "    datasets and middle element for odd datasets. Mode is the element occuring highest \n",
    "    times in a dataset. For median, dataset should be in a straight value line."
   ]
  },
  {
   "cell_type": "code",
   "execution_count": 3,
   "id": "6af5a107",
   "metadata": {},
   "outputs": [
    {
     "data": {
      "text/plain": [
       "177.01875"
      ]
     },
     "execution_count": 3,
     "metadata": {},
     "output_type": "execute_result"
    }
   ],
   "source": [
    "##A3: \n",
    "    \n",
    "import numpy as np\n",
    "set1=[178,177,176,177,178.2,178,175,179,180,175,178.9,176.2,177,172.5,178,176.5]\n",
    "np.mean(set1)\n"
   ]
  },
  {
   "cell_type": "code",
   "execution_count": 4,
   "id": "118f60eb",
   "metadata": {},
   "outputs": [
    {
     "data": {
      "text/plain": [
       "177.0"
      ]
     },
     "execution_count": 4,
     "metadata": {},
     "output_type": "execute_result"
    }
   ],
   "source": [
    "np.median(set1)"
   ]
  },
  {
   "cell_type": "code",
   "execution_count": 7,
   "id": "68cee37f",
   "metadata": {},
   "outputs": [
    {
     "data": {
      "text/plain": [
       "ModeResult(mode=array([177.]), count=array([3]))"
      ]
     },
     "execution_count": 7,
     "metadata": {},
     "output_type": "execute_result"
    }
   ],
   "source": [
    "from scipy import stats\n",
    "stats.mode(set1,keepdims=True)"
   ]
  },
  {
   "cell_type": "code",
   "execution_count": null,
   "id": "0686af06",
   "metadata": {},
   "outputs": [],
   "source": []
  },
  {
   "cell_type": "code",
   "execution_count": 9,
   "id": "cf00cd67",
   "metadata": {},
   "outputs": [
    {
     "data": {
      "text/plain": [
       "1.7885814036548633"
      ]
     },
     "execution_count": 9,
     "metadata": {},
     "output_type": "execute_result"
    }
   ],
   "source": [
    "##A4: \n",
    "np.std(set1)"
   ]
  },
  {
   "cell_type": "code",
   "execution_count": 10,
   "id": "483bf9b0",
   "metadata": {},
   "outputs": [
    {
     "data": {
      "text/plain": [
       "7.5"
      ]
     },
     "execution_count": 10,
     "metadata": {},
     "output_type": "execute_result"
    }
   ],
   "source": [
    "##A5:\n",
    "\n",
    "np.ptp(set1) #range"
   ]
  },
  {
   "cell_type": "code",
   "execution_count": null,
   "id": "8ec726b3",
   "metadata": {},
   "outputs": [],
   "source": [
    "Range: The range is the difference between the maximum and minimum values in the dataset. \n",
    "Variance: Variance measures how far each value in the dataset is from the mean.\n",
    "Standard Deviation: The standard deviation is the square root of variance.\n",
    "In summary, measures of dispersion such as range, variance, and standard deviation are used\n",
    "to provide insight into how spread out or varied the data in a dataset is. The choice of which\n",
    "measure to use depends on the nature of the data and the specific question being asked."
   ]
  },
  {
   "cell_type": "code",
   "execution_count": null,
   "id": "5ae6e4e4",
   "metadata": {},
   "outputs": [],
   "source": [
    "##A6: \n",
    "A graphical representation to show relationships between sets."
   ]
  },
  {
   "cell_type": "code",
   "execution_count": null,
   "id": "9beea39a",
   "metadata": {},
   "outputs": [],
   "source": []
  },
  {
   "cell_type": "code",
   "execution_count": 17,
   "id": "cf20989b",
   "metadata": {},
   "outputs": [
    {
     "data": {
      "text/plain": [
       "{2, 6}"
      ]
     },
     "execution_count": 17,
     "metadata": {},
     "output_type": "execute_result"
    }
   ],
   "source": [
    "##A7 \n",
    "\n",
    "a={2,3,4,5,6,7}\n",
    "b= {0,2,6,8,10}\n",
    "inter=a.intersection(b)\n",
    "inter"
   ]
  },
  {
   "cell_type": "code",
   "execution_count": 19,
   "id": "d49df744",
   "metadata": {},
   "outputs": [
    {
     "data": {
      "text/plain": [
       "{0, 2, 3, 4, 5, 6, 7, 8, 10}"
      ]
     },
     "execution_count": 19,
     "metadata": {},
     "output_type": "execute_result"
    }
   ],
   "source": [
    "un=a.union(b)\n",
    "un"
   ]
  },
  {
   "cell_type": "code",
   "execution_count": null,
   "id": "c711a0e3",
   "metadata": {},
   "outputs": [],
   "source": []
  },
  {
   "cell_type": "code",
   "execution_count": null,
   "id": "ea128799",
   "metadata": {},
   "outputs": [],
   "source": [
    "##A8\n",
    "Skewness is the measure of symmetry of probability of dataset."
   ]
  },
  {
   "cell_type": "code",
   "execution_count": null,
   "id": "922bd610",
   "metadata": {},
   "outputs": [],
   "source": []
  },
  {
   "cell_type": "code",
   "execution_count": null,
   "id": "e9100384",
   "metadata": {},
   "outputs": [],
   "source": [
    "##A9\n",
    "median>mean"
   ]
  },
  {
   "cell_type": "code",
   "execution_count": null,
   "id": "838159af",
   "metadata": {},
   "outputs": [],
   "source": []
  },
  {
   "cell_type": "code",
   "execution_count": null,
   "id": "f9abfe51",
   "metadata": {},
   "outputs": [],
   "source": [
    "##A10\n",
    "Covariance indicates the direction of the relationship between two variables, whether it is positive \n",
    "or negative, and the magnitude of the relationship. \n",
    "\n",
    "Correlation, on the other hand, is a standardized measure of the relationship between two variables. \n",
    "It is a dimensionless value that ranges from -1 to 1."
   ]
  },
  {
   "cell_type": "code",
   "execution_count": null,
   "id": "51dcdaae",
   "metadata": {},
   "outputs": [],
   "source": []
  },
  {
   "cell_type": "code",
   "execution_count": 21,
   "id": "c9e30432",
   "metadata": {},
   "outputs": [
    {
     "data": {
      "text/plain": [
       "2.0"
      ]
     },
     "execution_count": 21,
     "metadata": {},
     "output_type": "execute_result"
    }
   ],
   "source": [
    "##A11\n",
    "##S=sum of x / total n\n",
    "\n",
    "import numpy as np\n",
    "s=[1,2,3]\n",
    "np.mean(s)\n"
   ]
  },
  {
   "cell_type": "code",
   "execution_count": null,
   "id": "2e408740",
   "metadata": {},
   "outputs": [],
   "source": []
  },
  {
   "cell_type": "code",
   "execution_count": null,
   "id": "1f8bf01d",
   "metadata": {},
   "outputs": [],
   "source": [
    "##A12\n",
    "mean=median=mode"
   ]
  },
  {
   "cell_type": "code",
   "execution_count": null,
   "id": "b1b5e7d4",
   "metadata": {},
   "outputs": [],
   "source": []
  },
  {
   "cell_type": "code",
   "execution_count": null,
   "id": "6b6d98f0",
   "metadata": {},
   "outputs": [],
   "source": [
    "##A13\n",
    "Correlation is scale invariant, which makes it easier to interpret and compare across different\n",
    "datasets."
   ]
  },
  {
   "cell_type": "code",
   "execution_count": null,
   "id": "ca042477",
   "metadata": {},
   "outputs": [],
   "source": []
  },
  {
   "cell_type": "code",
   "execution_count": 22,
   "id": "45d21a9c",
   "metadata": {},
   "outputs": [
    {
     "data": {
      "text/plain": [
       "2.0"
      ]
     },
     "execution_count": 22,
     "metadata": {},
     "output_type": "execute_result"
    }
   ],
   "source": [
    "##A14\n",
    "\n",
    "import numpy as np\n",
    "a=[1,2,3]\n",
    "np.mean(a)"
   ]
  },
  {
   "cell_type": "code",
   "execution_count": 23,
   "id": "d6aec69e",
   "metadata": {},
   "outputs": [
    {
     "data": {
      "text/plain": [
       "14.0"
      ]
     },
     "execution_count": 23,
     "metadata": {},
     "output_type": "execute_result"
    }
   ],
   "source": [
    "a=[1,2,3,50]\n",
    "np.mean(a)"
   ]
  },
  {
   "cell_type": "code",
   "execution_count": null,
   "id": "ef581c93",
   "metadata": {},
   "outputs": [],
   "source": [
    "mean is different beacause of a outlier"
   ]
  }
 ],
 "metadata": {
  "kernelspec": {
   "display_name": "Python 3 (ipykernel)",
   "language": "python",
   "name": "python3"
  },
  "language_info": {
   "codemirror_mode": {
    "name": "ipython",
    "version": 3
   },
   "file_extension": ".py",
   "mimetype": "text/x-python",
   "name": "python",
   "nbconvert_exporter": "python",
   "pygments_lexer": "ipython3",
   "version": "3.9.13"
  }
 },
 "nbformat": 4,
 "nbformat_minor": 5
}
