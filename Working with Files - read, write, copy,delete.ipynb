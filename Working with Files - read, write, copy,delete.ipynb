{
 "cells": [
  {
   "cell_type": "code",
   "execution_count": 10,
   "id": "603c379b",
   "metadata": {},
   "outputs": [
    {
     "data": {
      "text/plain": [
       "'C:\\\\Users\\\\parth'"
      ]
     },
     "execution_count": 10,
     "metadata": {},
     "output_type": "execute_result"
    }
   ],
   "source": [
    "pwd"
   ]
  },
  {
   "cell_type": "code",
   "execution_count": 11,
   "id": "a71bd5e8",
   "metadata": {},
   "outputs": [
    {
     "name": "stdout",
     "output_type": "stream",
     "text": [
      " Volume in drive C is Windows-SSD\n",
      " Volume Serial Number is A892-D996\n",
      "\n",
      " Directory of C:\\Users\\parth\n",
      "\n",
      "05-05-2023  19:19    <DIR>          .\n",
      "28-02-2023  02:06    <DIR>          ..\n",
      "05-05-2023  19:19    <DIR>          .conda\n",
      "16-11-2022  23:42                25 .condarc\n",
      "16-11-2022  23:42    <DIR>          .continuum\n",
      "14-10-2022  19:17    <DIR>          .idlerc\n",
      "05-05-2023  19:07    <DIR>          .ipynb_checkpoints\n",
      "16-11-2022  23:45    <DIR>          .ipython\n",
      "23-02-2023  23:54    <DIR>          .jupyter\n",
      "07-02-2023  21:10    <DIR>          .matplotlib\n",
      "17-09-2022  17:17               735 .popsql.json\n",
      "08-03-2023  01:07    <DIR>          .spyder-py3\n",
      "14-10-2022  19:11    <DIR>          .vscode\n",
      "06-08-2022  16:59    <DIR>          .wdc\n",
      "02-03-2023  11:57            22,859 1stfeb PWskills.ipynb\n",
      "05-03-2023  19:28            29,090 2nd Feb.ipynb\n",
      "07-03-2023  21:55             9,480 3rd Feb.ipynb\n",
      "16-11-2022  23:28    <DIR>          anaconda3\n",
      "13-03-2023  17:49             8,576 Case studies.ipynb\n",
      "28-02-2023  17:14    <DIR>          Contacts\n",
      "25-02-2023  15:46            10,505 Day 2 Strings PWSkills.ipynb\n",
      "05-08-2022  15:15    <DIR>          Documents\n",
      "02-05-2023  19:24    <DIR>          Downloads\n",
      "28-02-2023  17:14    <DIR>          Favorites\n",
      "27-03-2023  18:38             5,723 Functions assignment.ipynb\n",
      "02-05-2023  19:08             5,237 Lambda Function Assignment.ipynb\n",
      "28-02-2023  17:14    <DIR>          Links\n",
      "16-03-2023  21:18            11,848 Measure of central tendency.ipynb\n",
      "28-02-2023  17:14    <DIR>          Music\n",
      "28-02-2023  02:11    <DIR>          OneDrive\n",
      "13-03-2023  17:13       110,998,214 Practice.ipynb\n",
      "17-03-2023  22:21             8,671 PWskills Assignment Stats Basic 1.ipynb\n",
      "24-03-2023  01:16             3,954 QQ Plot to check Normal distribution.ipynb\n",
      "28-02-2023  17:14    <DIR>          Saved Games\n",
      "23-03-2023  17:38    <DIR>          seaborn-data\n",
      "28-02-2023  17:14    <DIR>          Searches\n",
      "10-03-2023  00:32             3,879 Soccer.ipynb\n",
      "26-03-2023  18:03             8,117 Tuple, Set and Dictionary assignment.ipynb\n",
      "10-03-2023  00:30                72 Untitled.ipynb\n",
      "14-03-2023  18:02                72 Untitled1.ipynb\n",
      "17-03-2023  22:18             8,671 Untitled2.ipynb\n",
      "23-03-2023  17:27                72 Untitled3.ipynb\n",
      "18-03-2023  22:40               589 Untitled3-Copy1.ipynb\n",
      "26-03-2023  16:54                72 Untitled4.ipynb\n",
      "27-03-2023  17:49               755 Untitled5.ipynb\n",
      "02-05-2023  18:49               589 Untitled6.ipynb\n",
      "28-02-2023  17:14    <DIR>          Videos\n",
      "18-03-2023  22:51             2,545 WEB API assignment.ipynb\n",
      "05-05-2023  19:19             1,669 Working with Files.ipynb\n",
      "16-03-2023  21:10         2,150,588 WorldCupPlayers.csv\n",
      "              26 File(s)    113,292,607 bytes\n",
      "              24 Dir(s)  66,547,470,336 bytes free\n"
     ]
    }
   ],
   "source": [
    "ls"
   ]
  },
  {
   "cell_type": "code",
   "execution_count": 43,
   "id": "f69389af",
   "metadata": {},
   "outputs": [],
   "source": [
    "with open(\"Soccer.ipynb\", mode=\"r\") as f:\n",
    "    content = f.read()"
   ]
  },
  {
   "cell_type": "code",
   "execution_count": 21,
   "id": "05d24670",
   "metadata": {},
   "outputs": [
    {
     "name": "stdout",
     "output_type": "stream",
     "text": [
      "{\n",
      " \"cells\": [\n",
      "  {\n",
      "   \"cell_type\": \"code\",\n",
      "   \"execution_count\": 1,\n",
      "   \"id\": \"99a73f8e\",\n",
      "   \"metadata\": {},\n",
      "   \"outputs\": [\n",
      "    {\n",
      "     \"name\": \"stdout\",\n",
      "     \"output_type\": \"stream\",\n",
      "     \"text\": [\n",
      "      \"Collecting mplsoccer\\n\",\n",
      "      \"  Downloading mplsoccer-1.1.10-py3-none-any.whl (67 kB)\\n\",\n",
      "      \"     -------------------------------------- 68.0/68.0 kB 154.0 kB/s eta 0:00:00\\n\",\n",
      "      \"Requirement already satisfied: requests in c:\\\\users\\\\parth\\\\anaconda3\\\\lib\\\\site-packages (from mplsoccer) (2.28.1)\\n\",\n",
      "      \"Requirement already satisfied: pillow in c:\\\\users\\\\parth\\\\anaconda3\\\\lib\\\\site-packages (from mplsoccer) (9.2.0)\\n\",\n",
      "      \"Requirement already satisfied: matplotlib in c:\\\\users\\\\parth\\\\anaconda3\\\\lib\\\\site-packages (from mplsoccer) (3.5.2)\\n\",\n",
      "      \"Requirement already satisfied: scipy in c:\\\\users\\\\parth\\\\anaconda3\\\\lib\\\\site-packages (from mplsoccer) (1.9.1)\\n\",\n",
      "      \"Requirement already satisfied: seaborn in c:\\\\users\\\\parth\\\\anaconda3\\\\lib\\\\site-packages (from mplsoccer) (0.11.2)\\n\",\n",
      "      \"Requirement already satisfied: pandas in c:\\\\users\\\\parth\\\\anaconda3\\\\lib\\\\site-packages (from mplsoccer) (1.4.4)\\n\",\n",
      "      \"Requirement already satisfied: numpy in c:\\\\users\\\\parth\\\\anaconda3\\\\lib\\\\site-packages (from mplsoccer) (1.21.5)\\n\",\n",
      "      \"Requirement already satisfied: pyparsing>=2.2.1 in c:\\\\users\\\\parth\\\\anaconda3\\\\lib\\\\site-packages (from matplotlib->mplsoccer) (3.0.9)\\n\",\n",
      "      \"Requirement already satisfied: kiwisolver>=1.0.1 in c:\\\\users\\\\parth\\\\anaconda3\\\\lib\\\\site-packages (from matplotlib->mplsoccer) (1.4.2)\\n\",\n",
      "      \"Requirement already satisfied: packaging>=20.0 in c:\\\\users\\\\parth\\\\anaconda3\\\\lib\\\\site-packages (from matplotlib->mplsoccer) (21.3)\\n\",\n",
      "      \"Requirement already satisfied: python-dateutil>=2.7 in c:\\\\users\\\\parth\\\\anaconda3\\\\lib\\\\site-packages (from matplotlib->mplsoccer) (2.8.2)\\n\",\n",
      "      \"Requirement already satisfied: cycler>=0.10 in c:\\\\users\\\\parth\\\\anaconda3\\\\lib\\\\site-packages (from matplotlib->mplsoccer) (0.11.0)\\n\",\n",
      "      \"Requirement already satisfied: fonttools>=4.22.0 in c:\\\\users\\\\parth\\\\anaconda3\\\\lib\\\\site-packages (from matplotlib->mplsoccer) (4.25.0)\\n\",\n",
      "      \"Requirement already satisfied: pytz>=2020.1 in c:\\\\users\\\\parth\\\\anaconda3\\\\lib\\\\site-packages (from pandas->mplsoccer) (2022.1)\\n\",\n",
      "      \"Requirement already satisfied: certifi>=2017.4.17 in c:\\\\users\\\\parth\\\\anaconda3\\\\lib\\\\site-packages (from requests->mplsoccer) (2022.9.14)\\n\",\n",
      "      \"Requirement already satisfied: urllib3<1.27,>=1.21.1 in c:\\\\users\\\\parth\\\\anaconda3\\\\lib\\\\site-packages (from requests->mplsoccer) (1.26.11)\\n\",\n",
      "      \"Requirement already satisfied: idna<4,>=2.5 in c:\\\\users\\\\parth\\\\anaconda3\\\\lib\\\\site-packages (from requests->mplsoccer) (3.3)\\n\",\n",
      "      \"Requirement already satisfied: charset-normalizer<3,>=2 in c:\\\\users\\\\parth\\\\anaconda3\\\\lib\\\\site-packages (from requests->mplsoccer) (2.0.4)\\n\",\n",
      "      \"Requirement already satisfied: six>=1.5 in c:\\\\users\\\\parth\\\\anaconda3\\\\lib\\\\site-packages (from python-dateutil>=2.7->matplotlib->mplsoccer) (1.16.0)\\n\",\n",
      "      \"Installing collected packages: mplsoccer\\n\",\n",
      "      \"Successfully installed mplsoccer-1.1.10\\n\",\n",
      "      \"Note: you may need to restart the kernel to use updated packages.\\n\"\n",
      "     ]\n",
      "    }\n",
      "   ],\n",
      "   \"source\": [\n",
      "    \"pip install mplsoccer\\n\"\n",
      "   ]\n",
      "  },\n",
      "  {\n",
      "   \"cell_type\": \"code\",\n",
      "   \"execution_count\": null,\n",
      "   \"id\": \"8d82645c\",\n",
      "   \"metadata\": {},\n",
      "   \"outputs\": [],\n",
      "   \"source\": []\n",
      "  }\n",
      " ],\n",
      " \"metadata\": {\n",
      "  \"kernelspec\": {\n",
      "   \"display_name\": \"Python 3 (ipykernel)\",\n",
      "   \"language\": \"python\",\n",
      "   \"name\": \"python3\"\n",
      "  },\n",
      "  \"language_info\": {\n",
      "   \"codemirror_mode\": {\n",
      "    \"name\": \"ipython\",\n",
      "    \"version\": 3\n",
      "   },\n",
      "   \"file_extension\": \".py\",\n",
      "   \"mimetype\": \"text/x-python\",\n",
      "   \"name\": \"python\",\n",
      "   \"nbconvert_exporter\": \"python\",\n",
      "   \"pygments_lexer\": \"ipython3\",\n",
      "   \"version\": \"3.9.13\"\n",
      "  }\n",
      " },\n",
      " \"nbformat\": 4,\n",
      " \"nbformat_minor\": 5\n",
      "}\n",
      "\n"
     ]
    }
   ],
   "source": [
    "print(content)"
   ]
  },
  {
   "cell_type": "code",
   "execution_count": 26,
   "id": "9a8ad203",
   "metadata": {},
   "outputs": [
    {
     "data": {
      "text/plain": [
       "<_io.TextIOWrapper name='Soccer.ipynb' mode='w' encoding='cp1252'>"
      ]
     },
     "execution_count": 26,
     "metadata": {},
     "output_type": "execute_result"
    }
   ],
   "source": [
    "g = open(\"Soccer.ipynb\", mode=\"w\")\n",
    "g"
   ]
  },
  {
   "cell_type": "code",
   "execution_count": 27,
   "id": "ea040a18",
   "metadata": {},
   "outputs": [
    {
     "data": {
      "text/plain": [
       "5"
      ]
     },
     "execution_count": 27,
     "metadata": {},
     "output_type": "execute_result"
    }
   ],
   "source": [
    "g.write(\"Hello\")"
   ]
  },
  {
   "cell_type": "code",
   "execution_count": 39,
   "id": "b4fb63e0",
   "metadata": {},
   "outputs": [],
   "source": [
    "with open(\"example.txt\", mode=\"w\") as f:\n",
    "     f.write(\"Hello, world!\")"
   ]
  },
  {
   "cell_type": "code",
   "execution_count": 38,
   "id": "96a130cc",
   "metadata": {},
   "outputs": [
    {
     "data": {
      "text/plain": [
       "<_io.TextIOWrapper name='example.txt' mode='w' encoding='cp1252'>"
      ]
     },
     "execution_count": 38,
     "metadata": {},
     "output_type": "execute_result"
    }
   ],
   "source": [
    "f"
   ]
  },
  {
   "cell_type": "code",
   "execution_count": 52,
   "id": "a9420627",
   "metadata": {},
   "outputs": [
    {
     "data": {
      "text/plain": [
       "<function TextIOWrapper.close()>"
      ]
     },
     "execution_count": 52,
     "metadata": {},
     "output_type": "execute_result"
    }
   ],
   "source": [
    "f.close()"
   ]
  },
  {
   "cell_type": "code",
   "execution_count": 54,
   "id": "430e0663",
   "metadata": {},
   "outputs": [],
   "source": [
    "with open(\"example.txt\", mode=\"a\") as f:  ##apend mode\n",
    "     f.write(\"Hello, world!\")"
   ]
  },
  {
   "cell_type": "code",
   "execution_count": 55,
   "id": "1223ceaa",
   "metadata": {},
   "outputs": [],
   "source": [
    "f.close()"
   ]
  },
  {
   "cell_type": "code",
   "execution_count": 68,
   "id": "342d8afd",
   "metadata": {},
   "outputs": [
    {
     "data": {
      "text/plain": [
       "'Hello, world!Hello, world!'"
      ]
     },
     "execution_count": 68,
     "metadata": {},
     "output_type": "execute_result"
    }
   ],
   "source": [
    "##read a file\n",
    "\n",
    "data=open(\"example.txt\",mode=\"r\")\n",
    "data.read()"
   ]
  },
  {
   "cell_type": "code",
   "execution_count": 70,
   "id": "99e88cf7",
   "metadata": {},
   "outputs": [
    {
     "data": {
      "text/plain": [
       "'lo, world!Hello, world!'"
      ]
     },
     "execution_count": 70,
     "metadata": {},
     "output_type": "execute_result"
    }
   ],
   "source": [
    "##setting cursor at a specific point\n",
    "data.seek(3)\n",
    "data.read() ##cursor started from 4th place"
   ]
  },
  {
   "cell_type": "code",
   "execution_count": 71,
   "id": "08f67719",
   "metadata": {},
   "outputs": [
    {
     "data": {
      "text/plain": [
       "26"
      ]
     },
     "execution_count": 71,
     "metadata": {},
     "output_type": "execute_result"
    }
   ],
   "source": [
    "##File size with functions in byte\n",
    "import os\n",
    "os.path.getsize(\"example.txt\")"
   ]
  },
  {
   "cell_type": "code",
   "execution_count": 72,
   "id": "cc5c24e1",
   "metadata": {},
   "outputs": [
    {
     "data": {
      "text/plain": [
       "'newfile.txt'"
      ]
     },
     "execution_count": 72,
     "metadata": {},
     "output_type": "execute_result"
    }
   ],
   "source": [
    "##copy of a particular file\n",
    "import shutil\n",
    "shutil.copy(\"example.txt\",\"newfile.txt\") ##old file,new file"
   ]
  },
  {
   "cell_type": "code",
   "execution_count": 73,
   "id": "8bea354e",
   "metadata": {},
   "outputs": [],
   "source": [
    "##delete a particular file\n",
    "##os module\n",
    "os.remove(\"newfile.txt\")"
   ]
  },
  {
   "cell_type": "code",
   "execution_count": 2,
   "id": "499ebbdf",
   "metadata": {},
   "outputs": [],
   "source": [
    "##rename a particular file\n",
    "import os\n",
    "os.rename(\"example.txt\",\"Newname.txt\")"
   ]
  },
  {
   "cell_type": "code",
   "execution_count": null,
   "id": "c02de445",
   "metadata": {},
   "outputs": [],
   "source": []
  }
 ],
 "metadata": {
  "kernelspec": {
   "display_name": "Python 3 (ipykernel)",
   "language": "python",
   "name": "python3"
  },
  "language_info": {
   "codemirror_mode": {
    "name": "ipython",
    "version": 3
   },
   "file_extension": ".py",
   "mimetype": "text/x-python",
   "name": "python",
   "nbconvert_exporter": "python",
   "pygments_lexer": "ipython3",
   "version": "3.9.13"
  }
 },
 "nbformat": 4,
 "nbformat_minor": 5
}
