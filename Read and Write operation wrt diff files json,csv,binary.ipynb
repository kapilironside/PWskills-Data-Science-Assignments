{
 "cells": [
  {
   "cell_type": "code",
   "execution_count": 17,
   "id": "02e7548b",
   "metadata": {},
   "outputs": [],
   "source": [
    "##read and write for dict kind of object\n",
    "##json data in key value format above ##store abovedata in json file\n",
    "##json format is used to transfer data from one to another\n",
    "dataa = {\n",
    "    \"name\":\"kap\",\n",
    "    \"mail\":\"kap.xyz\",\n",
    "    \"mob no\":234,\n",
    "    \"sub\":[\"dax\",\"sql\"]}"
   ]
  },
  {
   "cell_type": "code",
   "execution_count": 19,
   "id": "12ca8fad",
   "metadata": {},
   "outputs": [],
   "source": [
    "##dump info ie data from above cell in f file\n",
    "import json\n",
    "with open(\"test2.json\", \"w\") as f:\n",
    "    json.dump(dataa,f)"
   ]
  },
  {
   "cell_type": "code",
   "execution_count": 28,
   "id": "5bc86ac1",
   "metadata": {},
   "outputs": [
    {
     "data": {
      "text/plain": [
       "{'name': 'kap', 'mail': 'kap.xyz', 'mob no': 234, 'sub': ['dax', 'sql']}"
      ]
     },
     "execution_count": 28,
     "metadata": {},
     "output_type": "execute_result"
    }
   ],
   "source": [
    "##read operation -  load for read and dump for write\n",
    "\n",
    "with open(\"test2.json\",\"r\") as f:\n",
    "    x=json.load(f)\n",
    "x"
   ]
  },
  {
   "cell_type": "code",
   "execution_count": 30,
   "id": "fcec7572",
   "metadata": {},
   "outputs": [
    {
     "data": {
      "text/plain": [
       "'sql'"
      ]
     },
     "execution_count": 30,
     "metadata": {},
     "output_type": "execute_result"
    }
   ],
   "source": [
    "x[\"sub\"][1]"
   ]
  },
  {
   "cell_type": "code",
   "execution_count": 31,
   "id": "b2d1b17c",
   "metadata": {},
   "outputs": [],
   "source": [
    "##read and write for list in list value\n",
    "##csv file\n",
    "dataaa=[[\"name\",\"emailid\",\"number\"], [\"kap\",\"kap.xyz\",1234],[\"tom\",\"tom.xyz\",2345]]"
   ]
  },
  {
   "cell_type": "code",
   "execution_count": 43,
   "id": "46f83672",
   "metadata": {},
   "outputs": [],
   "source": [
    "import csv\n",
    "with open (\"test1.csv\",\"w\",newline=\"\")as f:\n",
    "    w=csv.writer(f)  ##writer for write \n",
    "    for i in dataaa:\n",
    "        w.writerow(i)"
   ]
  },
  {
   "cell_type": "code",
   "execution_count": 48,
   "id": "9a5d1bab",
   "metadata": {},
   "outputs": [
    {
     "name": "stdout",
     "output_type": "stream",
     "text": [
      "['name', 'emailid', 'number']\n",
      "['kap', 'kap.xyz', '1234']\n",
      "['tom', 'tom.xyz', '2345']\n"
     ]
    }
   ],
   "source": [
    "##reader.csv for read operation\n",
    "with open(\"test1.csv\",\"r\",newline=\"\") as f:\n",
    "    read=csv.reader(f)\n",
    "    for i in read:\n",
    "      print(i)"
   ]
  },
  {
   "cell_type": "code",
   "execution_count": 49,
   "id": "7e60fe66",
   "metadata": {},
   "outputs": [],
   "source": [
    "##binary data is audio,video or image format\n",
    "with open(\"test4.bin\", \"wb\")as f: ##wb is write binary\n",
    "    f.write(b\"\\x01\\x02\\x03\")\n",
    "    "
   ]
  },
  {
   "cell_type": "code",
   "execution_count": 52,
   "id": "23a683c2",
   "metadata": {},
   "outputs": [
    {
     "name": "stdout",
     "output_type": "stream",
     "text": [
      "b'\\x01\\x02\\x03'\n"
     ]
    }
   ],
   "source": [
    "with open(\"test4.bin\", \"rb\")as f:\n",
    "    print(f.read())"
   ]
  },
  {
   "cell_type": "code",
   "execution_count": null,
   "id": "ab17ae60",
   "metadata": {},
   "outputs": [],
   "source": []
  }
 ],
 "metadata": {
  "kernelspec": {
   "display_name": "Python 3 (ipykernel)",
   "language": "python",
   "name": "python3"
  },
  "language_info": {
   "codemirror_mode": {
    "name": "ipython",
    "version": 3
   },
   "file_extension": ".py",
   "mimetype": "text/x-python",
   "name": "python",
   "nbconvert_exporter": "python",
   "pygments_lexer": "ipython3",
   "version": "3.9.13"
  }
 },
 "nbformat": 4,
 "nbformat_minor": 5
}
