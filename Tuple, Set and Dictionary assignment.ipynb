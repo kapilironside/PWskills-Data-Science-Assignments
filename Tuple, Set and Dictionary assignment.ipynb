{
 "cells": [
  {
   "cell_type": "code",
   "execution_count": null,
   "id": "b01a0c94",
   "metadata": {},
   "outputs": [],
   "source": [
    "##A1\n",
    "Tuples are ordered, hashable,heterogenous, nested. "
   ]
  },
  {
   "cell_type": "code",
   "execution_count": null,
   "id": "bb0adeef",
   "metadata": {},
   "outputs": [],
   "source": []
  },
  {
   "cell_type": "code",
   "execution_count": null,
   "id": "83d88e4e",
   "metadata": {},
   "outputs": [],
   "source": [
    "##A2\n",
    "Count and Index.\n",
    "Yes they are immutable.The limited number of\n",
    "built-in functions in tuples is because they are meant to be simple and efficient for specific use\n",
    "cases. Lists, on the other hand, are designed to be more versatile and have more functionality\n",
    "because they are mutable and can be used for a wide range of purposes."
   ]
  },
  {
   "cell_type": "code",
   "execution_count": 2,
   "id": "fc6f717e",
   "metadata": {},
   "outputs": [
    {
     "name": "stdout",
     "output_type": "stream",
     "text": [
      "2\n"
     ]
    }
   ],
   "source": [
    "a=(1,2,3,3,4)\n",
    "b=a.count(3)\n",
    "print(b)"
   ]
  },
  {
   "cell_type": "code",
   "execution_count": 3,
   "id": "b731d7d6",
   "metadata": {},
   "outputs": [
    {
     "data": {
      "text/plain": [
       "1"
      ]
     },
     "execution_count": 3,
     "metadata": {},
     "output_type": "execute_result"
    }
   ],
   "source": [
    "c=a.index(2)\n",
    "c"
   ]
  },
  {
   "cell_type": "code",
   "execution_count": null,
   "id": "164bfcdb",
   "metadata": {},
   "outputs": [],
   "source": []
  },
  {
   "cell_type": "code",
   "execution_count": null,
   "id": "0496009b",
   "metadata": {},
   "outputs": [],
   "source": [
    "##A3\n",
    "Sets."
   ]
  },
  {
   "cell_type": "code",
   "execution_count": 9,
   "id": "f420fe32",
   "metadata": {},
   "outputs": [
    {
     "data": {
      "text/plain": [
       "[1, 2, 3, 4]"
      ]
     },
     "execution_count": 9,
     "metadata": {},
     "output_type": "execute_result"
    }
   ],
   "source": [
    "a=[1,1,1,2,1,3,1,4,2,1,2,2,2,3,2,4,3,1,3,2,3,3,3,4,4,1,4,2,4,3,4,4]\n",
    "b=set(a)\n",
    "c=list(b)\n",
    "c"
   ]
  },
  {
   "cell_type": "code",
   "execution_count": null,
   "id": "a54270bd",
   "metadata": {},
   "outputs": [],
   "source": []
  },
  {
   "cell_type": "code",
   "execution_count": null,
   "id": "f3fb80cf",
   "metadata": {},
   "outputs": [],
   "source": [
    "##A4\n",
    "Union collects distinct elements of commanded sets. While update updates the modified set."
   ]
  },
  {
   "cell_type": "code",
   "execution_count": 22,
   "id": "4716c9c5",
   "metadata": {},
   "outputs": [
    {
     "name": "stdout",
     "output_type": "stream",
     "text": [
      "{1, 2, 3, 4, 5}\n"
     ]
    }
   ],
   "source": [
    "a={1,2,3}\n",
    "b={3,4,5}\n",
    "c={6,7}\n",
    "d=a.union(b)\n",
    "print(d)"
   ]
  },
  {
   "cell_type": "code",
   "execution_count": 24,
   "id": "7b1c1331",
   "metadata": {},
   "outputs": [
    {
     "name": "stdout",
     "output_type": "stream",
     "text": [
      "{1, 2, 3, 6, 7}\n"
     ]
    }
   ],
   "source": [
    "e=a.update(c)\n",
    "print(a)"
   ]
  },
  {
   "cell_type": "code",
   "execution_count": null,
   "id": "c94fa1d6",
   "metadata": {},
   "outputs": [],
   "source": []
  },
  {
   "cell_type": "code",
   "execution_count": 29,
   "id": "dce8932c",
   "metadata": {},
   "outputs": [
    {
     "ename": "SyntaxError",
     "evalue": "invalid syntax (1713435028.py, line 2)",
     "output_type": "error",
     "traceback": [
      "\u001b[1;36m  File \u001b[1;32m\"C:\\Users\\parth\\AppData\\Local\\Temp\\ipykernel_18544\\1713435028.py\"\u001b[1;36m, line \u001b[1;32m2\u001b[0m\n\u001b[1;33m    Collection of key value pairs = dictionary.\u001b[0m\n\u001b[1;37m               ^\u001b[0m\n\u001b[1;31mSyntaxError\u001b[0m\u001b[1;31m:\u001b[0m invalid syntax\n"
     ]
    }
   ],
   "source": [
    "##A5\n",
    "Collection of key value pairs = dictionary.\n",
    "Dictionary is ordered."
   ]
  },
  {
   "cell_type": "code",
   "execution_count": 28,
   "id": "1423206d",
   "metadata": {},
   "outputs": [
    {
     "name": "stdout",
     "output_type": "stream",
     "text": [
      "{'name': 'John', 'age': 20, 'grade': 'A'}\n"
     ]
    }
   ],
   "source": [
    "student = {'name': 'John', 'age': 20, 'grade': 'A'}\n",
    "print(student)"
   ]
  },
  {
   "cell_type": "code",
   "execution_count": null,
   "id": "cbb6c345",
   "metadata": {},
   "outputs": [],
   "source": [
    "\n"
   ]
  },
  {
   "cell_type": "code",
   "execution_count": null,
   "id": "66027a8c",
   "metadata": {},
   "outputs": [],
   "source": [
    "##A6\n",
    "Yes."
   ]
  },
  {
   "cell_type": "code",
   "execution_count": null,
   "id": "9129ac30",
   "metadata": {},
   "outputs": [],
   "source": [
    "details={'x':{\n",
    "        'marks'=[8,9],\n",
    "        'sub'=[\"math\",\"science\"]},\n",
    "         'y':{\n",
    "        'marks'=[7,9],\n",
    "        'sub'=[\"math\",\"science\"]}\n",
    "        }"
   ]
  },
  {
   "cell_type": "code",
   "execution_count": null,
   "id": "468c5588",
   "metadata": {},
   "outputs": [],
   "source": []
  },
  {
   "cell_type": "code",
   "execution_count": 5,
   "id": "b4d47fec",
   "metadata": {},
   "outputs": [
    {
     "name": "stdout",
     "output_type": "stream",
     "text": [
      "{'language': 'Python', 'course': 'Data Science Masters', 'topics': ['Python', 'Machine Learning', 'Deep Learning']}\n"
     ]
    }
   ],
   "source": [
    "##A7\n",
    "\n",
    "dict1 = {'language': 'Python', 'course': 'Data Science Masters'}\n",
    "dict1.setdefault('topics', ['Python', 'Machine Learning', 'Deep Learning'])\n",
    "print(dict1)"
   ]
  },
  {
   "cell_type": "code",
   "execution_count": null,
   "id": "79798718",
   "metadata": {},
   "outputs": [],
   "source": []
  },
  {
   "cell_type": "code",
   "execution_count": null,
   "id": "27f11406",
   "metadata": {},
   "outputs": [],
   "source": [
    "##A8\n",
    "The three view objects in dictionaries are:\n",
    "\n",
    "dict_keys: This method returns a view object that contains the keys of the dictionary.\n",
    "dict_values: This method returns a view object that contains the values of the dictionary.\n",
    "dict_items: This method returns a view object that contains the key-value pairs of the dictionary."
   ]
  },
  {
   "cell_type": "code",
   "execution_count": 6,
   "id": "7f8dbd8b",
   "metadata": {},
   "outputs": [
    {
     "name": "stdout",
     "output_type": "stream",
     "text": [
      "Keys view object: dict_keys(['Sport', 'Teams'])\n",
      "Values view object: dict_values(['Cricket', ['India', 'Australia', 'England', 'South Africa', 'Sri Lanka', 'New Zealand']])\n",
      "Items view object: dict_items([('Sport', 'Cricket'), ('Teams', ['India', 'Australia', 'England', 'South Africa', 'Sri Lanka', 'New Zealand'])])\n"
     ]
    }
   ],
   "source": [
    "dict1 = {'Sport': 'Cricket' , 'Teams': ['India', 'Australia', 'England', 'South Africa', 'Sri Lanka', \n",
    "                                        'New Zealand']}\n",
    "\n",
    "keys_view = dict1.keys()\n",
    "values_view = dict1.values()\n",
    "items_view = dict1.items()\n",
    "\n",
    "print(\"Keys view object:\", keys_view)\n",
    "print(\"Values view object:\", values_view)\n",
    "print(\"Items view object:\", items_view)\n"
   ]
  },
  {
   "cell_type": "code",
   "execution_count": null,
   "id": "8beb2df6",
   "metadata": {},
   "outputs": [],
   "source": []
  }
 ],
 "metadata": {
  "kernelspec": {
   "display_name": "Python 3 (ipykernel)",
   "language": "python",
   "name": "python3"
  },
  "language_info": {
   "codemirror_mode": {
    "name": "ipython",
    "version": 3
   },
   "file_extension": ".py",
   "mimetype": "text/x-python",
   "name": "python",
   "nbconvert_exporter": "python",
   "pygments_lexer": "ipython3",
   "version": "3.9.13"
  }
 },
 "nbformat": 4,
 "nbformat_minor": 5
}
